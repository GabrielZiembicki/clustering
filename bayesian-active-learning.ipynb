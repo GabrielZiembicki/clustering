{
 "cells": [
  {
   "cell_type": "markdown",
   "metadata": {},
   "source": [
    "## Bayesian Active Learning algorithm"
   ]
  },
  {
   "cell_type": "code",
   "execution_count": 1,
   "metadata": {},
   "outputs": [],
   "source": [
    "'''Inital version of Active Learning implementation in regression'''\n",
    "\n",
    "import numpy as np\n",
    "\n",
    "lambda_input = 0\n",
    "sigma2_input = 1.2\n",
    "#X_train = np.genfromtxt('/media/gabriel/Nowy/Learning/Machine Learning/Project/X_train.csv', delimiter = \",\")\n",
    "#y_train = np.genfromtxt('/media/gabriel/Nowy/Learning/Machine Learning/Project/y_train.csv')\n",
    "X_test = np.array([0,2,3,1])\n",
    "\n",
    "\n",
    "def ridge_regression(X_train, y_train, lambda_input):\n",
    "    ## Input : Arguments to the function\n",
    "    ## Return : wRR, coefficients\n",
    "    lb = np.identity(lambda_input)\n",
    "    XT = np.transpose(X_train)\n",
    "    XTX = XT.dot(X_train)\n",
    "    XTX = XT.dot(X_train)\n",
    "    lb = np.identity(len(XTX)) * lambda_input\n",
    "    wRR = np.linalg.inv(lb + XTX)\n",
    "    wRR = wRR.dot(XT)\n",
    "    wRR = wRR.dot(y_train)\n",
    "    return wRR\n",
    "\n",
    "\n",
    "def active_learning(X_test, sigma2_input, lambda_input):\n",
    "    ## Input : Arguments to the function\n",
    "    ## Return : active, sequence of indexes\n",
    "    idx = []\n",
    "    lb = np.identity(len(X_test.T)) * lambda_input\n",
    "    E = (lb + (sigma2_input**(-1) * X_test.T).dot(X_test))\n",
    "    E = np.linalg.inv(E)\n",
    "    for k in range(0, 10):\n",
    "        entropy = []\n",
    "        for i in range(X_test.shape[0]):\n",
    "            x0 = X_test[i,:]\n",
    "            ent_dif = sigma2_input + (x0.dot(E)).dot(x0)\n",
    "            entropy.append((i, ent_dif))\n",
    "        entropy_sorted = sorted(entropy, key=lambda t: t[1], reverse=True)\n",
    "        max_ent_idx = entropy_sorted[0][0]\n",
    "\n",
    "        z=0\n",
    "        while max_ent_idx+1 in idx:\n",
    "            z+=1\n",
    "            max_ent_idx = entropy_sorted[z][0]\n",
    "        idx.append(max_ent_idx+1)\n",
    "        x0 = X_test[max_ent_idx,:]\n",
    "        E = np.linalg.inv(np.linalg.inv(E) + (sigma2_input**(-1) * np.dot(x0, x0.T)))\n",
    "        \n",
    "    return np.array(idx)\n",
    "\n"
   ]
  }
 ],
 "metadata": {
  "kernelspec": {
   "display_name": "Python 3",
   "language": "python",
   "name": "python3"
  },
  "language_info": {
   "codemirror_mode": {
    "name": "ipython",
    "version": 3
   },
   "file_extension": ".py",
   "mimetype": "text/x-python",
   "name": "python",
   "nbconvert_exporter": "python",
   "pygments_lexer": "ipython3",
   "version": "3.6.4"
  }
 },
 "nbformat": 4,
 "nbformat_minor": 2
}
